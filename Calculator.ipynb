{
 "cells": [
  {
   "cell_type": "code",
   "execution_count": null,
   "id": "a362852a",
   "metadata": {},
   "outputs": [
    {
     "name": "stdout",
     "output_type": "stream",
     "text": [
      "Enter the number: 6\n",
      "+\n",
      "-\n",
      "*\n",
      "/\n",
      "Pick an operation: /\n",
      "Enter the next number: 3\n",
      "6.0 / 3.0 = 2.0\n",
      "Type 'y' to continue calculating with 2.0 otherwise type 'n' to start a new calculation n\n",
      "Enter the number: 5\n",
      "+\n",
      "-\n",
      "*\n",
      "/\n",
      "Pick an operation: *\n",
      "Enter the next number: 3.5\n",
      "5.0 * 3.5 = 17.5\n",
      "Type 'y' to continue calculating with 17.5 otherwise type 'n' to start a new calculation y\n",
      "Pick an operation: /\n",
      "Enter the next number: 9\n",
      "17.5 / 9.0 = 1.9444444444444444\n"
     ]
    }
   ],
   "source": [
    "\n",
    "  #add\n",
    "def add(n1,n2):\n",
    "  return n1+n2\n",
    "\n",
    "  #subtract\n",
    "def subtract(n1,n2):\n",
    "  return n1-n2\n",
    "\n",
    "    #multiply \n",
    "def multiply(n1,n2):\n",
    "  return n1*n2\n",
    "  \n",
    "    #divide\n",
    "def divide(n1,n2):\n",
    "  return n1/n2\n",
    "#creating functions to do operations\n",
    "\n",
    "operations={\n",
    "  \"+\":add,\n",
    "  \"-\":subtract,\n",
    "  \"*\":multiply,\n",
    "  \"/\":divide\n",
    "}\n",
    "#creating a dictionary to store these functions\n",
    "\n",
    "def calculator():\n",
    "  \n",
    "  num1=float(input(\"Enter the number: \"))\n",
    "  for symbol in operations:\n",
    "    print(symbol)\n",
    "#Taking in the first input and displaying all the operations symbols \n",
    "  continue_prog=True\n",
    "  while continue_prog:\n",
    "    operation_symbol=input(\"Pick an operation: \")\n",
    "    num2=float(input(\"Enter the next number: \"))\n",
    "    calculation_function=operations[operation_symbol]\n",
    "    answer=calculation_function(num1,num2)\n",
    "#in the while loop, it takes one more input to perform the operations and stores it in a variable caled answer\n",
    "    print(f\"{num1} {operation_symbol} {num2} = {answer}\")\n",
    "#Prints the output after calculating\n",
    "    if input(f\"Type 'y' to continue calculating with {answer} otherwise type 'n' to start a new calculation \")==\"y\":\n",
    "      num1 = answer\n",
    "    else:\n",
    "      continue_prog=False\n",
    "      calculator()\n",
    "#Asks the user if they want to calculate with the value of their previous calculations or start a new calculation\n",
    "calculator()\n",
    "#Calling the calculator function."
   ]
  },
  {
   "cell_type": "code",
   "execution_count": null,
   "id": "718ab89a",
   "metadata": {},
   "outputs": [],
   "source": []
  },
  {
   "cell_type": "code",
   "execution_count": null,
   "id": "587650b2",
   "metadata": {},
   "outputs": [],
   "source": []
  },
  {
   "cell_type": "code",
   "execution_count": null,
   "id": "1162f94a",
   "metadata": {},
   "outputs": [],
   "source": []
  }
 ],
 "metadata": {
  "kernelspec": {
   "display_name": "Python 3 (ipykernel)",
   "language": "python",
   "name": "python3"
  },
  "language_info": {
   "codemirror_mode": {
    "name": "ipython",
    "version": 3
   },
   "file_extension": ".py",
   "mimetype": "text/x-python",
   "name": "python",
   "nbconvert_exporter": "python",
   "pygments_lexer": "ipython3",
   "version": "3.9.12"
  }
 },
 "nbformat": 4,
 "nbformat_minor": 5
}
